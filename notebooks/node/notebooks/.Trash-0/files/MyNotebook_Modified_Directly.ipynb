{
  "cells": [
    {
      "cell_type": "code",
      "execution_count": 1,
      "id": "06d9e2da-4aac-481f-811f-a2d688c14df1",
      "metadata": {},
      "outputs": [
        {
          "name": "stdout",
          "output_type": "stream",
          "text": [
            "307\n",
            "[\n",
            "  'templateSettings', 'after',          'ary',              'assign',\n",
            "  'assignIn',         'assignInWith',   'assignWith',       'at',\n",
            "  'before',           'bind',           'bindAll',          'bindKey',\n",
            "  'castArray',        'chain',          'chunk',            'compact',\n",
            "  'concat',           'cond',           'conforms',         'constant',\n",
            "  'countBy',          'create',         'curry',            'curryRight',\n",
            "  'debounce',         'defaults',       'defaultsDeep',     'defer',\n",
            "  'delay',            'difference',     'differenceBy',     'differenceWith',\n",
            "  'drop',             'dropRight',      'dropRightWhile',   'dropWhile',\n",
            "  'fill',             'filter',         'flatMap',          'flatMapDeep',\n",
            "  'flatMapDepth',     'flatten',        'flattenDeep',      'flattenDepth',\n",
            "  'flip',             'flow',           'flowRight',        'fromPairs',\n",
            "  'functions',        'functionsIn',    'groupBy',          'initial',\n",
            "  'intersection',     'intersectionBy', 'intersectionWith', 'invert',\n",
            "  'invertBy',         'invokeMap',      'iteratee',         'keyBy',\n",
            "  'keys',             'keysIn',         'map',              'mapKeys',\n",
            "  'mapValues',        'matches',        'matchesProperty',  'memoize',\n",
            "  'merge',            'mergeWith',      'method',           'methodOf',\n",
            "  'mixin',            'negate',         'nthArg',           'omit',\n",
            "  'omitBy',           'once',           'orderBy',          'over',\n",
            "  'overArgs',         'overEvery',      'overSome',         'partial',\n",
            "  'partialRight',     'partition',      'pick',             'pickBy',\n",
            "  'property',         'propertyOf',     'pull',             'pullAll',\n",
            "  'pullAllBy',        'pullAllWith',    'pullAt',           'range',\n",
            "  'rangeRight',       'rearg',          'reject',           'remove',\n",
            "  ... 207 more items\n",
            "]\n"
          ]
        }
      ],
      "source": [
        "const _ = require('lodash');\n",
        "const lodashFunctions = Object.keys(_);\n",
        "const size = lodashFunctions.length - 1;\n",
        "console.log(size);\n",
        "console.log(lodashFunctions.slice(0, size));"
      ]
    },
    {
      "cell_type": "code",
      "execution_count": null,
      "id": "f7692b1e-628d-45f2-a2e2-d37d58ecad87",
      "metadata": {},
      "outputs": [],
      "source": []
    },
    {
      "cell_type": "code",
      "execution_count": null,
      "metadata": {},
      "outputs": [],
      "source": [
        "console.log('This cell was added via JSON manipulation!');"
      ]
    }
  ],
  "metadata": {
    "kernelspec": {
      "display_name": "JavaScript (Node.js)",
      "language": "javascript",
      "name": "javascript"
    },
    "language_info": {
      "file_extension": ".js",
      "mimetype": "application/javascript",
      "name": "javascript",
      "version": "20.19.4"
    }
  },
  "nbformat": 4,
  "nbformat_minor": 5
}