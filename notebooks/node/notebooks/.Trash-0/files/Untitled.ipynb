{
 "cells": [
  {
   "cell_type": "code",
   "execution_count": 1,
   "id": "08ae73d0-2e91-459d-9e7e-e05309d03b11",
   "metadata": {},
   "outputs": [
    {
     "name": "stdout",
     "output_type": "stream",
     "text": [
      "hello\n"
     ]
    }
   ],
   "source": [
    "console.log('hello')"
   ]
  },
  {
   "cell_type": "code",
   "execution_count": 2,
   "id": "9b3e4d6d-e4e4-4eb9-866b-3423995a8c94",
   "metadata": {},
   "outputs": [
    {
     "data": {
      "text/plain": [
       "'/root'"
      ]
     },
     "execution_count": 2,
     "metadata": {},
     "output_type": "execute_result"
    }
   ],
   "source": [
    "os.homedir()"
   ]
  },
  {
   "cell_type": "code",
   "execution_count": 3,
   "id": "2dab96f2-b8c3-4003-b654-e97d01b565bf",
   "metadata": {},
   "outputs": [
    {
     "data": {
      "text/plain": [
       "'0a25f8fb9ac3'"
      ]
     },
     "execution_count": 3,
     "metadata": {},
     "output_type": "execute_result"
    }
   ],
   "source": [
    "os.hostname()"
   ]
  },
  {
   "cell_type": "code",
   "execution_count": 4,
   "id": "598fda45-d524-49d7-b82d-916618996625",
   "metadata": {},
   "outputs": [
    {
     "data": {
      "text/plain": [
       "[Object: null prototype] {\n",
       "  UV_UDP_REUSEADDR: 4,\n",
       "  dlopen: [Object: null prototype] {\n",
       "    RTLD_LAZY: 1,\n",
       "    RTLD_NOW: 2,\n",
       "    RTLD_GLOBAL: 256,\n",
       "    RTLD_LOCAL: 0,\n",
       "    RTLD_DEEPBIND: 8\n",
       "  },\n",
       "  errno: [Object: null prototype] {\n",
       "    E2BIG: 7,\n",
       "    EACCES: 13,\n",
       "    EADDRINUSE: 98,\n",
       "    EADDRNOTAVAIL: 99,\n",
       "    EAFNOSUPPORT: 97,\n",
       "    EAGAIN: 11,\n",
       "    EALREADY: 114,\n",
       "    EBADF: 9,\n",
       "    EBADMSG: 74,\n",
       "    EBUSY: 16,\n",
       "    ECANCELED: 125,\n",
       "    ECHILD: 10,\n",
       "    ECONNABORTED: 103,\n",
       "    ECONNREFUSED: 111,\n",
       "    ECONNRESET: 104,\n",
       "    EDEADLK: 35,\n",
       "    EDESTADDRREQ: 89,\n",
       "    EDOM: 33,\n",
       "    EDQUOT: 122,\n",
       "    EEXIST: 17,\n",
       "    EFAULT: 14,\n",
       "    EFBIG: 27,\n",
       "    EHOSTUNREACH: 113,\n",
       "    EIDRM: 43,\n",
       "    EILSEQ: 84,\n",
       "    EINPROGRESS: 115,\n",
       "    EINTR: 4,\n",
       "    EINVAL: 22,\n",
       "    EIO: 5,\n",
       "    EISCONN: 106,\n",
       "    EISDIR: 21,\n",
       "    ELOOP: 40,\n",
       "    EMFILE: 24,\n",
       "    EMLINK: 31,\n",
       "    EMSGSIZE: 90,\n",
       "    EMULTIHOP: 72,\n",
       "    ENAMETOOLONG: 36,\n",
       "    ENETDOWN: 100,\n",
       "    ENETRESET: 102,\n",
       "    ENETUNREACH: 101,\n",
       "    ENFILE: 23,\n",
       "    ENOBUFS: 105,\n",
       "    ENODATA: 61,\n",
       "    ENODEV: 19,\n",
       "    ENOENT: 2,\n",
       "    ENOEXEC: 8,\n",
       "    ENOLCK: 37,\n",
       "    ENOLINK: 67,\n",
       "    ENOMEM: 12,\n",
       "    ENOMSG: 42,\n",
       "    ENOPROTOOPT: 92,\n",
       "    ENOSPC: 28,\n",
       "    ENOSR: 63,\n",
       "    ENOSTR: 60,\n",
       "    ENOSYS: 38,\n",
       "    ENOTCONN: 107,\n",
       "    ENOTDIR: 20,\n",
       "    ENOTEMPTY: 39,\n",
       "    ENOTSOCK: 88,\n",
       "    ENOTSUP: 95,\n",
       "    ENOTTY: 25,\n",
       "    ENXIO: 6,\n",
       "    EOPNOTSUPP: 95,\n",
       "    EOVERFLOW: 75,\n",
       "    EPERM: 1,\n",
       "    EPIPE: 32,\n",
       "    EPROTO: 71,\n",
       "    EPROTONOSUPPORT: 93,\n",
       "    EPROTOTYPE: 91,\n",
       "    ERANGE: 34,\n",
       "    EROFS: 30,\n",
       "    ESPIPE: 29,\n",
       "    ESRCH: 3,\n",
       "    ESTALE: 116,\n",
       "    ETIME: 62,\n",
       "    ETIMEDOUT: 110,\n",
       "    ETXTBSY: 26,\n",
       "    EWOULDBLOCK: 11,\n",
       "    EXDEV: 18\n",
       "  },\n",
       "  signals: [Object: null prototype] {\n",
       "    SIGHUP: 1,\n",
       "    SIGINT: 2,\n",
       "    SIGQUIT: 3,\n",
       "    SIGILL: 4,\n",
       "    SIGTRAP: 5,\n",
       "    SIGABRT: 6,\n",
       "    SIGIOT: 6,\n",
       "    SIGBUS: 7,\n",
       "    SIGFPE: 8,\n",
       "    SIGKILL: 9,\n",
       "    SIGUSR1: 10,\n",
       "    SIGSEGV: 11,\n",
       "    SIGUSR2: 12,\n",
       "    SIGPIPE: 13,\n",
       "    SIGALRM: 14,\n",
       "    SIGTERM: 15,\n",
       "    SIGCHLD: 17,\n",
       "    SIGSTKFLT: 16,\n",
       "    SIGCONT: 18,\n",
       "    SIGSTOP: 19,\n",
       "    SIGTSTP: 20,\n",
       "    SIGTTIN: 21,\n",
       "    SIGTTOU: 22,\n",
       "    SIGURG: 23,\n",
       "    SIGXCPU: 24,\n",
       "    SIGXFSZ: 25,\n",
       "    SIGVTALRM: 26,\n",
       "    SIGPROF: 27,\n",
       "    SIGWINCH: 28,\n",
       "    SIGIO: 29,\n",
       "    SIGPOLL: 29,\n",
       "    SIGPWR: 30,\n",
       "    SIGSYS: 31\n",
       "  },\n",
       "  priority: [Object: null prototype] {\n",
       "    PRIORITY_LOW: 19,\n",
       "    PRIORITY_BELOW_NORMAL: 10,\n",
       "    PRIORITY_NORMAL: 0,\n",
       "    PRIORITY_ABOVE_NORMAL: -7,\n",
       "    PRIORITY_HIGH: -14,\n",
       "    PRIORITY_HIGHEST: -20\n",
       "  }\n",
       "}"
      ]
     },
     "execution_count": 4,
     "metadata": {},
     "output_type": "execute_result"
    }
   ],
   "source": [
    "os.constants"
   ]
  },
  {
   "cell_type": "code",
   "execution_count": 5,
   "id": "fde28dca-5fe4-4028-bf20-eca8124b2637",
   "metadata": {},
   "outputs": [
    {
     "data": {
      "text/plain": [
       "'aarch64'"
      ]
     },
     "execution_count": 5,
     "metadata": {},
     "output_type": "execute_result"
    }
   ],
   "source": [
    "os.machine()"
   ]
  },
  {
   "cell_type": "code",
   "execution_count": 6,
   "id": "482a8cda-28ec-464a-b87d-52ff29977d36",
   "metadata": {},
   "outputs": [
    {
     "data": {
      "text/plain": [
       "'linux'"
      ]
     },
     "execution_count": 6,
     "metadata": {},
     "output_type": "execute_result"
    }
   ],
   "source": [
    "os.platform()"
   ]
  },
  {
   "cell_type": "code",
   "execution_count": 7,
   "id": "5e6a82e1-9c9e-404a-819a-aafff437801d",
   "metadata": {},
   "outputs": [
    {
     "data": {
      "text/plain": [
       "'#1 SMP Tue Jan 21 10:23:32 UTC 2025'"
      ]
     },
     "execution_count": 7,
     "metadata": {},
     "output_type": "execute_result"
    }
   ],
   "source": [
    "os.version()"
   ]
  },
  {
   "cell_type": "code",
   "execution_count": 8,
   "id": "574829f6-338b-439e-858a-eddc26fce3c2",
   "metadata": {},
   "outputs": [
    {
     "data": {
      "text/plain": [
       "'6.12.5-linuxkit'"
      ]
     },
     "execution_count": 8,
     "metadata": {},
     "output_type": "execute_result"
    }
   ],
   "source": [
    "os.release()"
   ]
  },
  {
   "cell_type": "code",
   "execution_count": 9,
   "id": "9c585bc7-9b71-4a7e-b001-643e6cd8183d",
   "metadata": {},
   "outputs": [
    {
     "data": {
      "text/plain": [
       "'Linux'"
      ]
     },
     "execution_count": 9,
     "metadata": {},
     "output_type": "execute_result"
    }
   ],
   "source": [
    "os.type()"
   ]
  },
  {
   "cell_type": "code",
   "execution_count": null,
   "id": "4c79aafd-8497-49c2-9c6f-8971db61309c",
   "metadata": {},
   "outputs": [],
   "source": []
  }
 ],
 "metadata": {
  "kernelspec": {
   "display_name": "JavaScript (Node.js)",
   "language": "javascript",
   "name": "javascript"
  },
  "language_info": {
   "file_extension": ".js",
   "mimetype": "application/javascript",
   "name": "javascript",
   "version": "20.19.4"
  }
 },
 "nbformat": 4,
 "nbformat_minor": 5
}
