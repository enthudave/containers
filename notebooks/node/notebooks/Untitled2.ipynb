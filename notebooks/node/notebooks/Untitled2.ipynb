{
 "cells": [
  {
   "cell_type": "code",
   "execution_count": null,
   "id": "520e6a4d-4b97-4741-8ed5-c0439da2c314",
   "metadata": {},
   "outputs": [],
   "source": [
    "const fs = require('fs');\n"
   ]
  },
  {
   "cell_type": "code",
   "execution_count": 6,
   "id": "221f04b1-d5b4-4461-8132-e0a81d3c82fe",
   "metadata": {},
   "outputs": [
    {
     "name": "stdout",
     "output_type": "stream",
     "text": [
      "Notebook modified successfully!\n"
     ]
    }
   ],
   "source": [
    "\n",
    "// 1. Read the original notebook file.\n",
    "const notebookPath = './MyNotebook.ipynb';\n",
    "const notebookRaw = fs.readFileSync(notebookPath, 'utf-8');\n",
    "\n",
    "// 2. Deserialize the JSON into a JavaScript object.\n",
    "const notebook = JSON.parse(notebookRaw);\n",
    "\n",
    "// 3. Define and add a new code cell object.\n",
    "// Note: You must follow the notebook format schema precisely.\n",
    "const newCell = {\n",
    "  cell_type: 'code',\n",
    "  execution_count: null, // Kernels fill this in.\n",
    "  metadata: {},\n",
    "  outputs: [],\n",
    "  source: [\"console.log('This cell was added via JSON manipulation!');\"]\n",
    "};\n",
    "\n",
    "notebook.cells.push(newCell);\n",
    "\n",
    "// 4. Serialize the modified object back to a pretty-printed JSON string.\n",
    "const newNotebookRaw = JSON.stringify(notebook, null, 2); // null, 2 for indentation\n",
    "\n",
    "// 5. Write to a new file.\n",
    "fs.writeFileSync('./MyNotebook.ipynb', newNotebookRaw);\n",
    "\n",
    "console.log('Notebook modified successfully!');"
   ]
  },
  {
   "cell_type": "code",
   "execution_count": null,
   "id": "b182014f-c502-4765-bbc2-49b047b50582",
   "metadata": {},
   "outputs": [],
   "source": []
  }
 ],
 "metadata": {
  "kernelspec": {
   "display_name": "JavaScript (Node.js)",
   "language": "javascript",
   "name": "javascript"
  },
  "language_info": {
   "file_extension": ".js",
   "mimetype": "application/javascript",
   "name": "javascript",
   "version": "20.19.4"
  }
 },
 "nbformat": 4,
 "nbformat_minor": 5
}
