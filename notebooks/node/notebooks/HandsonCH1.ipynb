{
 "cells": [
  {
   "attachments": {},
   "cell_type": "markdown",
   "id": "883b42e5-5812-41d9-bf29-a99d5785c21a",
   "metadata": {},
   "source": [
    "### Acronyms\n",
    "- **OCR**: optical character recognition\n",
    "- **CNN**: convolutional neural network\n",
    "- **NLP**: natural language processing\n",
    "- **RNN**: recurrent neural network\n",
    "- **NLU**: natural language understanding\n",
    "\n",
    "### Types of machine learning\n",
    "- Supervised vs unsupervised learning. (and variants)  \n",
    "  In supervised learning, the training set you feed to the algorithm includes the\n",
    "desired solutions, called labels.  \n",
    "The words target and label are generally treated as synonyms in supervised\n",
    "learning, but target is more common in regression tasks and label is more common\n",
    "in classification tasks. Moreover, features are sometimes called predictors or\n",
    "attributes.  \n",
    "In unsupervised learning, the training data is unlabeled.\n",
    "The system tries to learn without a teacher .\n",
    "- Online (in-line, on the fly) vs online-incremental vs batch learning.\n",
    "- Instance based vs model based.\n",
    "\n",
    "### Definitions\n",
    "- **training set:** The examples that the system uses to learn are called the training set.  \n",
    "- **training instance or sample:** Each training example is called a training instance (or sample)\n",
    "- **model:** The part of a machine learning system that learns and makes predictions is called\n",
    "a model.  \n",
    "Neural networks and random forests are examples of models.\n",
    "- **data mining:** Digging into large amounts of data to discover hidden patterns is called\n",
    "data mining, and machine learning excels at it.\n",
    "- **reinforcement learning:** is\n",
    "a branch of machine learning that trains agents (such as bots) to pick the\n",
    "actions that will maximize their rewards over time (e.g., a bot may get a\n",
    "reward every time the player loses some life points), within a given\n",
    "environment (such as the game)."
   ]
  },
  {
   "cell_type": "code",
   "execution_count": null,
   "id": "ed8edb02-c41d-463d-8f12-45cb8af840d7",
   "metadata": {},
   "outputs": [],
   "source": []
  }
 ],
 "metadata": {
  "kernelspec": {
   "display_name": "JavaScript (Node.js)",
   "language": "javascript",
   "name": "javascript"
  },
  "language_info": {
   "file_extension": ".js",
   "mimetype": "application/javascript",
   "name": "javascript",
   "version": "20.19.4"
  }
 },
 "nbformat": 4,
 "nbformat_minor": 5
}
